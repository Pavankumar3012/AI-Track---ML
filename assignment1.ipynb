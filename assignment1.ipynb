{
  "nbformat": 4,
  "nbformat_minor": 0,
  "metadata": {
    "colab": {
      "name": "assignment1.ipynb",
      "provenance": [],
      "authorship_tag": "ABX9TyOuPbe6aXN9ucpkFJavimrM",
      "include_colab_link": true
    },
    "kernelspec": {
      "name": "python3",
      "display_name": "Python 3"
    }
  },
  "cells": [
    {
      "cell_type": "markdown",
      "metadata": {
        "id": "view-in-github",
        "colab_type": "text"
      },
      "source": [
        "<a href=\"https://colab.research.google.com/github/Pavankumar3012/AI-Track---ML/blob/master/assignment1.ipynb\" target=\"_parent\"><img src=\"https://colab.research.google.com/assets/colab-badge.svg\" alt=\"Open In Colab\"/></a>"
      ]
    },
    {
      "cell_type": "code",
      "metadata": {
        "id": "P3IRVE_Wv-ic",
        "colab_type": "code",
        "colab": {
          "base_uri": "https://localhost:8080/",
          "height": 153
        },
        "outputId": "9340cdef-5430-40a6-cc28-8e705bacc5bf"
      },
      "source": [
        "from scipy.optimize import linprog\n",
        "obj=[-50,-120]\n",
        "lhs_ineq=[[7000,2000],[10,30],[1,1]]\n",
        "rhs_ineq=[700000,1200,110]\n",
        "bnd=[(0,float(\"inf\")),(0,float(\"inf\"))]\n",
        "opt=linprog(c=obj,A_ub=lhs_ineq,b_ub=rhs_ineq,bounds=bnd,method=\"simplex\")\n",
        "opt\n"
      ],
      "execution_count": null,
      "outputs": [
        {
          "output_type": "execute_result",
          "data": {
            "text/plain": [
              "     con: array([], dtype=float64)\n",
              "     fun: -5778.9473684210525\n",
              " message: 'Optimization terminated successfully.'\n",
              "     nit: 3\n",
              "   slack: array([0.        , 0.        , 4.73684211])\n",
              "  status: 0\n",
              " success: True\n",
              "       x: array([97.89473684,  7.36842105])"
            ]
          },
          "metadata": {
            "tags": []
          },
          "execution_count": 1
        }
      ]
    },
    {
      "cell_type": "code",
      "metadata": {
        "id": "ThRoBmu308oI",
        "colab_type": "code",
        "colab": {
          "base_uri": "https://localhost:8080/",
          "height": 68
        },
        "outputId": "c7076031-6267-44b7-aba3-e497489a4903"
      },
      "source": [
        "print(f'areas for Maximum Profit\\nArea of land(hec) for growing Wheat: {opt.x[0]}\\nArea of land(hec) for growing Barley: {opt.x[1]}')"
      ],
      "execution_count": null,
      "outputs": [
        {
          "output_type": "stream",
          "text": [
            "areas for Maximum Profit\n",
            "Area of land(hec) for growing Wheat: 97.89473684210526\n",
            "Area of land(hec) for growing Barley: 7.368421052631579\n"
          ],
          "name": "stdout"
        }
      ]
    }
  ]
}