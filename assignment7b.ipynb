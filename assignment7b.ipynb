{
  "nbformat": 4,
  "nbformat_minor": 0,
  "metadata": {
    "colab": {
      "name": "assignment7b.ipynb",
      "provenance": [],
      "authorship_tag": "ABX9TyNzXL1RulXHsaRU8/YuaY3s",
      "include_colab_link": true
    },
    "kernelspec": {
      "name": "python3",
      "display_name": "Python 3"
    }
  },
  "cells": [
    {
      "cell_type": "markdown",
      "metadata": {
        "id": "view-in-github",
        "colab_type": "text"
      },
      "source": [
        "<a href=\"https://colab.research.google.com/github/Pavankumar3012/AI-Track---ML/blob/master/assignment7b.ipynb\" target=\"_parent\"><img src=\"https://colab.research.google.com/assets/colab-badge.svg\" alt=\"Open In Colab\"/></a>"
      ]
    },
    {
      "cell_type": "code",
      "metadata": {
        "id": "zEtv7AgssdFN",
        "colab_type": "code",
        "colab": {
          "base_uri": "https://localhost:8080/",
          "height": 34
        },
        "outputId": "08c7159e-37dc-43b0-9ef5-3545ef043086"
      },
      "source": [
        "import pandas as pd\n",
        "\n",
        "data = pd.read_excel('Load Data in kW.xlsx')\n",
        "data.head()\n",
        "data.shape"
      ],
      "execution_count": 1,
      "outputs": [
        {
          "output_type": "execute_result",
          "data": {
            "text/plain": [
              "(2184, 3)"
            ]
          },
          "metadata": {
            "tags": []
          },
          "execution_count": 1
        }
      ]
    },
    {
      "cell_type": "code",
      "metadata": {
        "id": "J6-ImGXOtEeL",
        "colab_type": "code",
        "colab": {
          "base_uri": "https://localhost:8080/",
          "height": 51
        },
        "outputId": "53c1e507-74f6-403c-b5d7-9f859f4850cb"
      },
      "source": [
        "day_1 = data.iloc[0:-24, 2]\n",
        "day_2 = data.iloc[24:, 2]\n",
        "print(day_1.shape)\n",
        "print(day_2.shape)"
      ],
      "execution_count": 2,
      "outputs": [
        {
          "output_type": "stream",
          "text": [
            "(2160,)\n",
            "(2160,)\n"
          ],
          "name": "stdout"
        }
      ]
    },
    {
      "cell_type": "code",
      "metadata": {
        "id": "nZoc63oKtP5P",
        "colab_type": "code",
        "colab": {}
      },
      "source": [
        "day_2 = day_2.reset_index()\n",
        "day_2 = day_2['Load (kW)']"
      ],
      "execution_count": 3,
      "outputs": []
    },
    {
      "cell_type": "code",
      "metadata": {
        "id": "Ju74u1cstR_C",
        "colab_type": "code",
        "colab": {
          "base_uri": "https://localhost:8080/",
          "height": 34
        },
        "outputId": "59f299b2-652c-4a4e-a3cb-39320bbe533d"
      },
      "source": [
        "da = pd.concat([day_1, day_2], axis = 1)\n",
        "da.shape"
      ],
      "execution_count": 4,
      "outputs": [
        {
          "output_type": "execute_result",
          "data": {
            "text/plain": [
              "(2160, 2)"
            ]
          },
          "metadata": {
            "tags": []
          },
          "execution_count": 4
        }
      ]
    },
    {
      "cell_type": "code",
      "metadata": {
        "id": "wmOgxA6btaKA",
        "colab_type": "code",
        "colab": {
          "base_uri": "https://localhost:8080/",
          "height": 204
        },
        "outputId": "844323aa-ffb4-43a4-8f08-8a68a8810e5f"
      },
      "source": [
        "da.columns = ['Day_1', 'Day_2']\n",
        "da.head()"
      ],
      "execution_count": 5,
      "outputs": [
        {
          "output_type": "execute_result",
          "data": {
            "text/html": [
              "<div>\n",
              "<style scoped>\n",
              "    .dataframe tbody tr th:only-of-type {\n",
              "        vertical-align: middle;\n",
              "    }\n",
              "\n",
              "    .dataframe tbody tr th {\n",
              "        vertical-align: top;\n",
              "    }\n",
              "\n",
              "    .dataframe thead th {\n",
              "        text-align: right;\n",
              "    }\n",
              "</style>\n",
              "<table border=\"1\" class=\"dataframe\">\n",
              "  <thead>\n",
              "    <tr style=\"text-align: right;\">\n",
              "      <th></th>\n",
              "      <th>Day_1</th>\n",
              "      <th>Day_2</th>\n",
              "    </tr>\n",
              "  </thead>\n",
              "  <tbody>\n",
              "    <tr>\n",
              "      <th>0</th>\n",
              "      <td>5551.82208</td>\n",
              "      <td>4931.26380</td>\n",
              "    </tr>\n",
              "    <tr>\n",
              "      <th>1</th>\n",
              "      <td>4983.17184</td>\n",
              "      <td>4775.53968</td>\n",
              "    </tr>\n",
              "    <tr>\n",
              "      <th>2</th>\n",
              "      <td>4888.39680</td>\n",
              "      <td>4713.81120</td>\n",
              "    </tr>\n",
              "    <tr>\n",
              "      <th>3</th>\n",
              "      <td>5072.95872</td>\n",
              "      <td>4689.02628</td>\n",
              "    </tr>\n",
              "    <tr>\n",
              "      <th>4</th>\n",
              "      <td>5196.25980</td>\n",
              "      <td>4844.75040</td>\n",
              "    </tr>\n",
              "  </tbody>\n",
              "</table>\n",
              "</div>"
            ],
            "text/plain": [
              "        Day_1       Day_2\n",
              "0  5551.82208  4931.26380\n",
              "1  4983.17184  4775.53968\n",
              "2  4888.39680  4713.81120\n",
              "3  5072.95872  4689.02628\n",
              "4  5196.25980  4844.75040"
            ]
          },
          "metadata": {
            "tags": []
          },
          "execution_count": 5
        }
      ]
    },
    {
      "cell_type": "code",
      "metadata": {
        "id": "epCZo1ButlCe",
        "colab_type": "code",
        "colab": {
          "base_uri": "https://localhost:8080/",
          "height": 136
        },
        "outputId": "e604b2a5-4115-4b38-cc33-5f1de6e3441b"
      },
      "source": [
        "from numpy import asarray\n",
        "from sklearn.preprocessing import StandardScaler\n",
        "scaler = StandardScaler()\n",
        "# transform data\n",
        "scaled = scaler.fit_transform(da)\n",
        "print(scaled)"
      ],
      "execution_count": 8,
      "outputs": [
        {
          "output_type": "stream",
          "text": [
            "[[-0.45496731 -1.02712751]\n",
            " [-0.98830043 -1.1729283 ]\n",
            " [-1.07718928 -1.23072321]\n",
            " ...\n",
            " [ 1.01199118 -1.22152856]\n",
            " [ 0.14357047 -0.82207234]\n",
            " [-0.35540594  0.85208269]]\n"
          ],
          "name": "stdout"
        }
      ]
    },
    {
      "cell_type": "code",
      "metadata": {
        "id": "LDj-JJj6t3_w",
        "colab_type": "code",
        "colab": {}
      },
      "source": [
        "from sklearn.model_selection import train_test_split\n",
        "x_train, x_test, y_train, y_test = train_test_split(scaled[:,0], scaled[:,1], test_size = 0.10, random_state = 42)"
      ],
      "execution_count": 9,
      "outputs": []
    },
    {
      "cell_type": "code",
      "metadata": {
        "id": "ZIg9yBlet_GJ",
        "colab_type": "code",
        "colab": {
          "base_uri": "https://localhost:8080/",
          "height": 1000
        },
        "outputId": "21d38ce6-2453-4f92-bbfd-306983559af7"
      },
      "source": [
        "m = 1 #Initial value of slope\n",
        "c = -1 #Initial value of intercept\n",
        "lr = 0.01 #Learning Rate\n",
        "delta_m = 1 #Initialising Δm\n",
        "delta_c = 1 #Initialising Δc\n",
        "v_m = 0\n",
        "v_c = 0\n",
        "lam = 0.9\n",
        "max_iters = 100 #Maximum number of iterations  \n",
        "iters_count = 0 #Counting Iterations\n",
        "\n",
        "\n",
        "def deriv(m_f, c_f, x, y):\n",
        "  m_deriv = -1*(y-m_f*x-c_f)*x\n",
        "  c_deriv = -1*(y-m_f*x-c_f)\n",
        "  return m_deriv, c_deriv  \n",
        "\n",
        "\n",
        "while iters_count < max_iters:\n",
        "  for i in range(x_train.shape[0]):\n",
        "    delta_m, delta_c = deriv(m, c, x_train[i], y_train[i])\n",
        "    v_m = lam * v_m - lr * delta_m\n",
        "    v_c = lam * v_c - lr * delta_c\n",
        "    m += v_m\n",
        "    c += v_c\n",
        "  iters_count += 1\n",
        "  print(f\"Iteration: {iters_count}\\tValue of m: {m}, \\tValue of c: {c}\")"
      ],
      "execution_count": 11,
      "outputs": [
        {
          "output_type": "stream",
          "text": [
            "Iteration: 1\tValue of m: 0.8885582807689945, \tValue of c: -0.01513181054290345\n",
            "Iteration: 2\tValue of m: 0.8885582807689945, \tValue of c: -0.01513181054290345\n",
            "Iteration: 3\tValue of m: 0.8885582807689945, \tValue of c: -0.01513181054290345\n",
            "Iteration: 4\tValue of m: 0.8885582807689945, \tValue of c: -0.01513181054290345\n",
            "Iteration: 5\tValue of m: 0.8885582807689945, \tValue of c: -0.01513181054290345\n",
            "Iteration: 6\tValue of m: 0.8885582807689945, \tValue of c: -0.01513181054290345\n",
            "Iteration: 7\tValue of m: 0.8885582807689945, \tValue of c: -0.01513181054290345\n",
            "Iteration: 8\tValue of m: 0.8885582807689945, \tValue of c: -0.01513181054290345\n",
            "Iteration: 9\tValue of m: 0.8885582807689945, \tValue of c: -0.01513181054290345\n",
            "Iteration: 10\tValue of m: 0.8885582807689945, \tValue of c: -0.01513181054290345\n",
            "Iteration: 11\tValue of m: 0.8885582807689945, \tValue of c: -0.01513181054290345\n",
            "Iteration: 12\tValue of m: 0.8885582807689945, \tValue of c: -0.01513181054290345\n",
            "Iteration: 13\tValue of m: 0.8885582807689945, \tValue of c: -0.01513181054290345\n",
            "Iteration: 14\tValue of m: 0.8885582807689945, \tValue of c: -0.01513181054290345\n",
            "Iteration: 15\tValue of m: 0.8885582807689945, \tValue of c: -0.01513181054290345\n",
            "Iteration: 16\tValue of m: 0.8885582807689945, \tValue of c: -0.01513181054290345\n",
            "Iteration: 17\tValue of m: 0.8885582807689945, \tValue of c: -0.01513181054290345\n",
            "Iteration: 18\tValue of m: 0.8885582807689945, \tValue of c: -0.01513181054290345\n",
            "Iteration: 19\tValue of m: 0.8885582807689945, \tValue of c: -0.01513181054290345\n",
            "Iteration: 20\tValue of m: 0.8885582807689945, \tValue of c: -0.01513181054290345\n",
            "Iteration: 21\tValue of m: 0.8885582807689945, \tValue of c: -0.01513181054290345\n",
            "Iteration: 22\tValue of m: 0.8885582807689945, \tValue of c: -0.01513181054290345\n",
            "Iteration: 23\tValue of m: 0.8885582807689945, \tValue of c: -0.01513181054290345\n",
            "Iteration: 24\tValue of m: 0.8885582807689945, \tValue of c: -0.01513181054290345\n",
            "Iteration: 25\tValue of m: 0.8885582807689945, \tValue of c: -0.01513181054290345\n",
            "Iteration: 26\tValue of m: 0.8885582807689945, \tValue of c: -0.01513181054290345\n",
            "Iteration: 27\tValue of m: 0.8885582807689945, \tValue of c: -0.01513181054290345\n",
            "Iteration: 28\tValue of m: 0.8885582807689945, \tValue of c: -0.01513181054290345\n",
            "Iteration: 29\tValue of m: 0.8885582807689945, \tValue of c: -0.01513181054290345\n",
            "Iteration: 30\tValue of m: 0.8885582807689945, \tValue of c: -0.01513181054290345\n",
            "Iteration: 31\tValue of m: 0.8885582807689945, \tValue of c: -0.01513181054290345\n",
            "Iteration: 32\tValue of m: 0.8885582807689945, \tValue of c: -0.01513181054290345\n",
            "Iteration: 33\tValue of m: 0.8885582807689945, \tValue of c: -0.01513181054290345\n",
            "Iteration: 34\tValue of m: 0.8885582807689945, \tValue of c: -0.01513181054290345\n",
            "Iteration: 35\tValue of m: 0.8885582807689945, \tValue of c: -0.01513181054290345\n",
            "Iteration: 36\tValue of m: 0.8885582807689945, \tValue of c: -0.01513181054290345\n",
            "Iteration: 37\tValue of m: 0.8885582807689945, \tValue of c: -0.01513181054290345\n",
            "Iteration: 38\tValue of m: 0.8885582807689945, \tValue of c: -0.01513181054290345\n",
            "Iteration: 39\tValue of m: 0.8885582807689945, \tValue of c: -0.01513181054290345\n",
            "Iteration: 40\tValue of m: 0.8885582807689945, \tValue of c: -0.01513181054290345\n",
            "Iteration: 41\tValue of m: 0.8885582807689945, \tValue of c: -0.01513181054290345\n",
            "Iteration: 42\tValue of m: 0.8885582807689945, \tValue of c: -0.01513181054290345\n",
            "Iteration: 43\tValue of m: 0.8885582807689945, \tValue of c: -0.01513181054290345\n",
            "Iteration: 44\tValue of m: 0.8885582807689945, \tValue of c: -0.01513181054290345\n",
            "Iteration: 45\tValue of m: 0.8885582807689945, \tValue of c: -0.01513181054290345\n",
            "Iteration: 46\tValue of m: 0.8885582807689945, \tValue of c: -0.01513181054290345\n",
            "Iteration: 47\tValue of m: 0.8885582807689945, \tValue of c: -0.01513181054290345\n",
            "Iteration: 48\tValue of m: 0.8885582807689945, \tValue of c: -0.01513181054290345\n",
            "Iteration: 49\tValue of m: 0.8885582807689945, \tValue of c: -0.01513181054290345\n",
            "Iteration: 50\tValue of m: 0.8885582807689945, \tValue of c: -0.01513181054290345\n",
            "Iteration: 51\tValue of m: 0.8885582807689945, \tValue of c: -0.01513181054290345\n",
            "Iteration: 52\tValue of m: 0.8885582807689945, \tValue of c: -0.01513181054290345\n",
            "Iteration: 53\tValue of m: 0.8885582807689945, \tValue of c: -0.01513181054290345\n",
            "Iteration: 54\tValue of m: 0.8885582807689945, \tValue of c: -0.01513181054290345\n",
            "Iteration: 55\tValue of m: 0.8885582807689945, \tValue of c: -0.01513181054290345\n",
            "Iteration: 56\tValue of m: 0.8885582807689945, \tValue of c: -0.01513181054290345\n",
            "Iteration: 57\tValue of m: 0.8885582807689945, \tValue of c: -0.01513181054290345\n",
            "Iteration: 58\tValue of m: 0.8885582807689945, \tValue of c: -0.01513181054290345\n",
            "Iteration: 59\tValue of m: 0.8885582807689945, \tValue of c: -0.01513181054290345\n",
            "Iteration: 60\tValue of m: 0.8885582807689945, \tValue of c: -0.01513181054290345\n",
            "Iteration: 61\tValue of m: 0.8885582807689945, \tValue of c: -0.01513181054290345\n",
            "Iteration: 62\tValue of m: 0.8885582807689945, \tValue of c: -0.01513181054290345\n",
            "Iteration: 63\tValue of m: 0.8885582807689945, \tValue of c: -0.01513181054290345\n",
            "Iteration: 64\tValue of m: 0.8885582807689945, \tValue of c: -0.01513181054290345\n",
            "Iteration: 65\tValue of m: 0.8885582807689945, \tValue of c: -0.01513181054290345\n",
            "Iteration: 66\tValue of m: 0.8885582807689945, \tValue of c: -0.01513181054290345\n",
            "Iteration: 67\tValue of m: 0.8885582807689945, \tValue of c: -0.01513181054290345\n",
            "Iteration: 68\tValue of m: 0.8885582807689945, \tValue of c: -0.01513181054290345\n",
            "Iteration: 69\tValue of m: 0.8885582807689945, \tValue of c: -0.01513181054290345\n",
            "Iteration: 70\tValue of m: 0.8885582807689945, \tValue of c: -0.01513181054290345\n",
            "Iteration: 71\tValue of m: 0.8885582807689945, \tValue of c: -0.01513181054290345\n",
            "Iteration: 72\tValue of m: 0.8885582807689945, \tValue of c: -0.01513181054290345\n",
            "Iteration: 73\tValue of m: 0.8885582807689945, \tValue of c: -0.01513181054290345\n",
            "Iteration: 74\tValue of m: 0.8885582807689945, \tValue of c: -0.01513181054290345\n",
            "Iteration: 75\tValue of m: 0.8885582807689945, \tValue of c: -0.01513181054290345\n",
            "Iteration: 76\tValue of m: 0.8885582807689945, \tValue of c: -0.01513181054290345\n",
            "Iteration: 77\tValue of m: 0.8885582807689945, \tValue of c: -0.01513181054290345\n",
            "Iteration: 78\tValue of m: 0.8885582807689945, \tValue of c: -0.01513181054290345\n",
            "Iteration: 79\tValue of m: 0.8885582807689945, \tValue of c: -0.01513181054290345\n",
            "Iteration: 80\tValue of m: 0.8885582807689945, \tValue of c: -0.01513181054290345\n",
            "Iteration: 81\tValue of m: 0.8885582807689945, \tValue of c: -0.01513181054290345\n",
            "Iteration: 82\tValue of m: 0.8885582807689945, \tValue of c: -0.01513181054290345\n",
            "Iteration: 83\tValue of m: 0.8885582807689945, \tValue of c: -0.01513181054290345\n",
            "Iteration: 84\tValue of m: 0.8885582807689945, \tValue of c: -0.01513181054290345\n",
            "Iteration: 85\tValue of m: 0.8885582807689945, \tValue of c: -0.01513181054290345\n",
            "Iteration: 86\tValue of m: 0.8885582807689945, \tValue of c: -0.01513181054290345\n",
            "Iteration: 87\tValue of m: 0.8885582807689945, \tValue of c: -0.01513181054290345\n",
            "Iteration: 88\tValue of m: 0.8885582807689945, \tValue of c: -0.01513181054290345\n",
            "Iteration: 89\tValue of m: 0.8885582807689945, \tValue of c: -0.01513181054290345\n",
            "Iteration: 90\tValue of m: 0.8885582807689945, \tValue of c: -0.01513181054290345\n",
            "Iteration: 91\tValue of m: 0.8885582807689945, \tValue of c: -0.01513181054290345\n",
            "Iteration: 92\tValue of m: 0.8885582807689945, \tValue of c: -0.01513181054290345\n",
            "Iteration: 93\tValue of m: 0.8885582807689945, \tValue of c: -0.01513181054290345\n",
            "Iteration: 94\tValue of m: 0.8885582807689945, \tValue of c: -0.01513181054290345\n",
            "Iteration: 95\tValue of m: 0.8885582807689945, \tValue of c: -0.01513181054290345\n",
            "Iteration: 96\tValue of m: 0.8885582807689945, \tValue of c: -0.01513181054290345\n",
            "Iteration: 97\tValue of m: 0.8885582807689945, \tValue of c: -0.01513181054290345\n",
            "Iteration: 98\tValue of m: 0.8885582807689945, \tValue of c: -0.01513181054290345\n",
            "Iteration: 99\tValue of m: 0.8885582807689945, \tValue of c: -0.01513181054290345\n",
            "Iteration: 100\tValue of m: 0.8885582807689945, \tValue of c: -0.01513181054290345\n"
          ],
          "name": "stdout"
        }
      ]
    },
    {
      "cell_type": "code",
      "metadata": {
        "id": "RjlDF-xeuRB5",
        "colab_type": "code",
        "colab": {}
      },
      "source": [
        "import numpy as np\n",
        "\n",
        "x_train = np.array(x_train)\n",
        "y_train = np.array(y_train)\n",
        "x_test = np.array(x_test)\n",
        "y_test = np.array(y_test)"
      ],
      "execution_count": 12,
      "outputs": []
    },
    {
      "cell_type": "code",
      "metadata": {
        "id": "SnlgzBrWuT73",
        "colab_type": "code",
        "colab": {}
      },
      "source": [
        "y_pred_train = []\n",
        "for i in x_train:\n",
        "  y_p_tr = (m * i) + c\n",
        "  y_pred_train.append(y_p_tr)\n",
        "y_pred_train = np.array(y_pred_train)"
      ],
      "execution_count": 13,
      "outputs": []
    },
    {
      "cell_type": "code",
      "metadata": {
        "id": "Q3mKQohuuW9H",
        "colab_type": "code",
        "colab": {}
      },
      "source": [
        "y_pred_test = []\n",
        "for i in x_test:\n",
        "  y_p_te = (m * i) + c\n",
        "  y_pred_test.append(y_p_te)\n",
        "y_pred_test = np.array(y_pred_test)"
      ],
      "execution_count": 14,
      "outputs": []
    },
    {
      "cell_type": "code",
      "metadata": {
        "id": "GzpcTscauZFy",
        "colab_type": "code",
        "colab": {
          "base_uri": "https://localhost:8080/",
          "height": 68
        },
        "outputId": "f54dc5b8-9e88-40de-9ab6-bb769a5ba7e0"
      },
      "source": [
        "import math\n",
        "from sklearn.metrics import mean_squared_error \n",
        "from sklearn.metrics import mean_absolute_error\n",
        "\n",
        "\n",
        "#Training Accuracies\n",
        "mse = math.sqrt(mean_squared_error(y_train, y_pred_train)) \n",
        "print('Root mean square error', mse) \n",
        "mse = (mean_squared_error(y_train, y_pred_train)) \n",
        "print('Mean square error', mse) \n",
        "mae=mean_absolute_error(y_train, y_pred_train)\n",
        "print('Mean absolute error', mae)"
      ],
      "execution_count": 15,
      "outputs": [
        {
          "output_type": "stream",
          "text": [
            "Root mean square error 0.6889798602712099\n",
            "Mean square error 0.474693247859336\n",
            "Mean absolute error 0.492395430425955\n"
          ],
          "name": "stdout"
        }
      ]
    },
    {
      "cell_type": "code",
      "metadata": {
        "id": "px0AlVdOuctS",
        "colab_type": "code",
        "colab": {
          "base_uri": "https://localhost:8080/",
          "height": 68
        },
        "outputId": "ee6ed657-039c-4730-d6fb-e0fbb52a0702"
      },
      "source": [
        "\n",
        "mse = math.sqrt(mean_squared_error(y_test, y_pred_test)) \n",
        "print('Root mean square error', mse) \n",
        "mse = (mean_squared_error(y_test, y_pred_test)) \n",
        "print('Mean square error', mse) \n",
        "mae=mean_absolute_error(y_test, y_pred_test)\n",
        "print('Mean absolute error', mae)"
      ],
      "execution_count": 17,
      "outputs": [
        {
          "output_type": "stream",
          "text": [
            "Root mean square error 0.6652240429995075\n",
            "Mean square error 0.44252302738461063\n",
            "Mean absolute error 0.480593538256484\n"
          ],
          "name": "stdout"
        }
      ]
    },
    {
      "cell_type": "code",
      "metadata": {
        "id": "riOQxRA2ug0g",
        "colab_type": "code",
        "colab": {}
      },
      "source": [
        ""
      ],
      "execution_count": null,
      "outputs": []
    }
  ]
}