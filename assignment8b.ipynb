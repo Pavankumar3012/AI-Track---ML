{
  "nbformat": 4,
  "nbformat_minor": 0,
  "metadata": {
    "colab": {
      "name": "assignment8b.ipynb",
      "provenance": [],
      "authorship_tag": "ABX9TyOssdjzMBm6Ufb8VKM5PnfT",
      "include_colab_link": true
    },
    "kernelspec": {
      "name": "python3",
      "display_name": "Python 3"
    }
  },
  "cells": [
    {
      "cell_type": "markdown",
      "metadata": {
        "id": "view-in-github",
        "colab_type": "text"
      },
      "source": [
        "<a href=\"https://colab.research.google.com/github/Pavankumar3012/AI-Track---ML/blob/master/assignment8b.ipynb\" target=\"_parent\"><img src=\"https://colab.research.google.com/assets/colab-badge.svg\" alt=\"Open In Colab\"/></a>"
      ]
    },
    {
      "cell_type": "code",
      "metadata": {
        "id": "MICWPX-O0SAZ",
        "colab_type": "code",
        "colab": {
          "base_uri": "https://localhost:8080/",
          "height": 34
        },
        "outputId": "0d038ed7-19f7-400a-b248-96753b4a2291"
      },
      "source": [
        "import pandas as pd\n",
        "\n",
        "data = pd.read_excel('Load Data in kW.xlsx')\n",
        "data.head()\n",
        "data.shape"
      ],
      "execution_count": 1,
      "outputs": [
        {
          "output_type": "execute_result",
          "data": {
            "text/plain": [
              "(2184, 3)"
            ]
          },
          "metadata": {
            "tags": []
          },
          "execution_count": 1
        }
      ]
    },
    {
      "cell_type": "code",
      "metadata": {
        "id": "_cwZwyU54ez2",
        "colab_type": "code",
        "colab": {
          "base_uri": "https://localhost:8080/",
          "height": 51
        },
        "outputId": "0d4cf4f4-23f4-4e7d-f848-3f5d90c12474"
      },
      "source": [
        "hour_1 = data.iloc[0:-1, 2]\n",
        "hour_2 = data.iloc[1:, 2]\n",
        "print(hour_1.shape)\n",
        "print(hour_2.shape)"
      ],
      "execution_count": 2,
      "outputs": [
        {
          "output_type": "stream",
          "text": [
            "(2183,)\n",
            "(2183,)\n"
          ],
          "name": "stdout"
        }
      ]
    },
    {
      "cell_type": "code",
      "metadata": {
        "id": "__mGI_524iBM",
        "colab_type": "code",
        "colab": {}
      },
      "source": [
        "hour_2 = hour_2.reset_index()\n",
        "hour_2 = hour_2['Load (kW)']"
      ],
      "execution_count": 3,
      "outputs": []
    },
    {
      "cell_type": "code",
      "metadata": {
        "id": "CsDN9_w94kpd",
        "colab_type": "code",
        "colab": {
          "base_uri": "https://localhost:8080/",
          "height": 34
        },
        "outputId": "a5d32e17-cb30-44ba-fdbf-3262d7709a2b"
      },
      "source": [
        "da = pd.concat([hour_1, hour_2], axis = 1)\n",
        "da.shape"
      ],
      "execution_count": 4,
      "outputs": [
        {
          "output_type": "execute_result",
          "data": {
            "text/plain": [
              "(2183, 2)"
            ]
          },
          "metadata": {
            "tags": []
          },
          "execution_count": 4
        }
      ]
    },
    {
      "cell_type": "code",
      "metadata": {
        "id": "cwU7XZbX4pby",
        "colab_type": "code",
        "colab": {
          "base_uri": "https://localhost:8080/",
          "height": 255
        },
        "outputId": "3bb63d67-cec4-4bd9-f96c-b84789044822"
      },
      "source": [
        "da.columns = ['Hour_1', 'Hour_2']\n",
        "da.head"
      ],
      "execution_count": 5,
      "outputs": [
        {
          "output_type": "execute_result",
          "data": {
            "text/plain": [
              "<bound method NDFrame.head of           Hour_1      Hour_2\n",
              "0     5551.82208  4983.17184\n",
              "1     4983.17184  4888.39680\n",
              "2     4888.39680  5072.95872\n",
              "3     5072.95872  5196.25980\n",
              "4     5196.25980  5641.29720\n",
              "...          ...         ...\n",
              "2178  5045.52384  4626.51840\n",
              "2179  4626.51840  4567.90752\n",
              "2180  4567.90752  4723.63164\n",
              "2181  4723.63164  5150.27520\n",
              "2182  5150.27520  6938.37468\n",
              "\n",
              "[2183 rows x 2 columns]>"
            ]
          },
          "metadata": {
            "tags": []
          },
          "execution_count": 5
        }
      ]
    },
    {
      "cell_type": "code",
      "metadata": {
        "id": "1tm7uifh4uLq",
        "colab_type": "code",
        "colab": {
          "base_uri": "https://localhost:8080/",
          "height": 136
        },
        "outputId": "4482c825-be90-4ea8-ae52-589c78d9e492"
      },
      "source": [
        "from numpy import asarray\n",
        "from sklearn.preprocessing import StandardScaler\n",
        "scaler = StandardScaler()\n",
        "# transform data\n",
        "scaled = scaler.fit_transform(da)\n",
        "print(scaled)"
      ],
      "execution_count": 6,
      "outputs": [
        {
          "output_type": "stream",
          "text": [
            "[[-0.44632997 -0.98013939]\n",
            " [-0.97966255 -1.06901738]\n",
            " [-1.06855131 -0.8959392 ]\n",
            " ...\n",
            " [-1.36913568 -1.22353058]\n",
            " [-1.22308326 -0.82343347]\n",
            " [-0.82293762  0.85340757]]\n"
          ],
          "name": "stdout"
        }
      ]
    },
    {
      "cell_type": "code",
      "metadata": {
        "id": "FmtTtHr-5Sai",
        "colab_type": "code",
        "colab": {}
      },
      "source": [
        "from sklearn.model_selection import train_test_split\n",
        "x_train, x_test, y_train, y_test = train_test_split(scaled[:,0], scaled[:,1], test_size = 0.10, random_state = 42)"
      ],
      "execution_count": 9,
      "outputs": []
    },
    {
      "cell_type": "code",
      "metadata": {
        "id": "n6aEMf465ims",
        "colab_type": "code",
        "colab": {
          "base_uri": "https://localhost:8080/",
          "height": 1000
        },
        "outputId": "9d0440df-29da-4374-b03d-009b1015f0e7"
      },
      "source": [
        "m = 1 #Initial value of slope\n",
        "c = -1 #Initial value of intercept\n",
        "lr = 0.01 #Learning Rate\n",
        "delta_m = 1 #Initialising Δm\n",
        "delta_c = 1 #Initialising Δc\n",
        "v_m = 0\n",
        "v_c = 0\n",
        "lam = 0.9\n",
        "max_iters = 100 #Maximum number of iterations  \n",
        "iters_count = 0 #Counting Iterations\n",
        "\n",
        "\n",
        "def deriv(m_f, c_f, x, y, v1, v2):\n",
        "  global lam\n",
        "  m_deriv = -1 * (y - (m_f - lam * v1) * x - c_f + lam * v2) * x\n",
        "  c_deriv = -1 * (y - (m_f - lam * v1) * x - c_f + lam * v2)\n",
        "  return m_deriv, c_deriv  \n",
        "\n",
        "\n",
        "while iters_count < max_iters:\n",
        "  for i in range(x_train.shape[0]):\n",
        "    delta_m, delta_c = deriv(m, c, x_train[i], y_train[i], v_m, v_c)\n",
        "    v_m = lam * v_m - lr * delta_m\n",
        "    v_c = lam * v_c - lr * delta_c\n",
        "    m += v_m\n",
        "    c += v_c\n",
        "  iters_count += 1\n",
        "  print(f\"Iteration: {iters_count}\\tValue of m: {m}, \\tValue of c: {c}\")"
      ],
      "execution_count": 11,
      "outputs": [
        {
          "output_type": "stream",
          "text": [
            "Iteration: 1\tValue of m: 0.8498008372670134, \tValue of c: -0.1566642005377427\n",
            "Iteration: 2\tValue of m: 0.8498008372670134, \tValue of c: -0.1566642005377427\n",
            "Iteration: 3\tValue of m: 0.8498008372670134, \tValue of c: -0.1566642005377427\n",
            "Iteration: 4\tValue of m: 0.8498008372670134, \tValue of c: -0.1566642005377427\n",
            "Iteration: 5\tValue of m: 0.8498008372670134, \tValue of c: -0.1566642005377427\n",
            "Iteration: 6\tValue of m: 0.8498008372670134, \tValue of c: -0.1566642005377427\n",
            "Iteration: 7\tValue of m: 0.8498008372670134, \tValue of c: -0.1566642005377427\n",
            "Iteration: 8\tValue of m: 0.8498008372670134, \tValue of c: -0.1566642005377427\n",
            "Iteration: 9\tValue of m: 0.8498008372670134, \tValue of c: -0.1566642005377427\n",
            "Iteration: 10\tValue of m: 0.8498008372670134, \tValue of c: -0.1566642005377427\n",
            "Iteration: 11\tValue of m: 0.8498008372670134, \tValue of c: -0.1566642005377427\n",
            "Iteration: 12\tValue of m: 0.8498008372670134, \tValue of c: -0.1566642005377427\n",
            "Iteration: 13\tValue of m: 0.8498008372670134, \tValue of c: -0.1566642005377427\n",
            "Iteration: 14\tValue of m: 0.8498008372670134, \tValue of c: -0.1566642005377427\n",
            "Iteration: 15\tValue of m: 0.8498008372670134, \tValue of c: -0.1566642005377427\n",
            "Iteration: 16\tValue of m: 0.8498008372670134, \tValue of c: -0.1566642005377427\n",
            "Iteration: 17\tValue of m: 0.8498008372670134, \tValue of c: -0.1566642005377427\n",
            "Iteration: 18\tValue of m: 0.8498008372670134, \tValue of c: -0.1566642005377427\n",
            "Iteration: 19\tValue of m: 0.8498008372670134, \tValue of c: -0.1566642005377427\n",
            "Iteration: 20\tValue of m: 0.8498008372670134, \tValue of c: -0.1566642005377427\n",
            "Iteration: 21\tValue of m: 0.8498008372670134, \tValue of c: -0.1566642005377427\n",
            "Iteration: 22\tValue of m: 0.8498008372670134, \tValue of c: -0.1566642005377427\n",
            "Iteration: 23\tValue of m: 0.8498008372670134, \tValue of c: -0.1566642005377427\n",
            "Iteration: 24\tValue of m: 0.8498008372670134, \tValue of c: -0.1566642005377427\n",
            "Iteration: 25\tValue of m: 0.8498008372670134, \tValue of c: -0.1566642005377427\n",
            "Iteration: 26\tValue of m: 0.8498008372670134, \tValue of c: -0.1566642005377427\n",
            "Iteration: 27\tValue of m: 0.8498008372670134, \tValue of c: -0.1566642005377427\n",
            "Iteration: 28\tValue of m: 0.8498008372670134, \tValue of c: -0.1566642005377427\n",
            "Iteration: 29\tValue of m: 0.8498008372670134, \tValue of c: -0.1566642005377427\n",
            "Iteration: 30\tValue of m: 0.8498008372670134, \tValue of c: -0.1566642005377427\n",
            "Iteration: 31\tValue of m: 0.8498008372670134, \tValue of c: -0.1566642005377427\n",
            "Iteration: 32\tValue of m: 0.8498008372670134, \tValue of c: -0.1566642005377427\n",
            "Iteration: 33\tValue of m: 0.8498008372670134, \tValue of c: -0.1566642005377427\n",
            "Iteration: 34\tValue of m: 0.8498008372670134, \tValue of c: -0.1566642005377427\n",
            "Iteration: 35\tValue of m: 0.8498008372670134, \tValue of c: -0.1566642005377427\n",
            "Iteration: 36\tValue of m: 0.8498008372670134, \tValue of c: -0.1566642005377427\n",
            "Iteration: 37\tValue of m: 0.8498008372670134, \tValue of c: -0.1566642005377427\n",
            "Iteration: 38\tValue of m: 0.8498008372670134, \tValue of c: -0.1566642005377427\n",
            "Iteration: 39\tValue of m: 0.8498008372670134, \tValue of c: -0.1566642005377427\n",
            "Iteration: 40\tValue of m: 0.8498008372670134, \tValue of c: -0.1566642005377427\n",
            "Iteration: 41\tValue of m: 0.8498008372670134, \tValue of c: -0.1566642005377427\n",
            "Iteration: 42\tValue of m: 0.8498008372670134, \tValue of c: -0.1566642005377427\n",
            "Iteration: 43\tValue of m: 0.8498008372670134, \tValue of c: -0.1566642005377427\n",
            "Iteration: 44\tValue of m: 0.8498008372670134, \tValue of c: -0.1566642005377427\n",
            "Iteration: 45\tValue of m: 0.8498008372670134, \tValue of c: -0.1566642005377427\n",
            "Iteration: 46\tValue of m: 0.8498008372670134, \tValue of c: -0.1566642005377427\n",
            "Iteration: 47\tValue of m: 0.8498008372670134, \tValue of c: -0.1566642005377427\n",
            "Iteration: 48\tValue of m: 0.8498008372670134, \tValue of c: -0.1566642005377427\n",
            "Iteration: 49\tValue of m: 0.8498008372670134, \tValue of c: -0.1566642005377427\n",
            "Iteration: 50\tValue of m: 0.8498008372670134, \tValue of c: -0.1566642005377427\n",
            "Iteration: 51\tValue of m: 0.8498008372670134, \tValue of c: -0.1566642005377427\n",
            "Iteration: 52\tValue of m: 0.8498008372670134, \tValue of c: -0.1566642005377427\n",
            "Iteration: 53\tValue of m: 0.8498008372670134, \tValue of c: -0.1566642005377427\n",
            "Iteration: 54\tValue of m: 0.8498008372670134, \tValue of c: -0.1566642005377427\n",
            "Iteration: 55\tValue of m: 0.8498008372670134, \tValue of c: -0.1566642005377427\n",
            "Iteration: 56\tValue of m: 0.8498008372670134, \tValue of c: -0.1566642005377427\n",
            "Iteration: 57\tValue of m: 0.8498008372670134, \tValue of c: -0.1566642005377427\n",
            "Iteration: 58\tValue of m: 0.8498008372670134, \tValue of c: -0.1566642005377427\n",
            "Iteration: 59\tValue of m: 0.8498008372670134, \tValue of c: -0.1566642005377427\n",
            "Iteration: 60\tValue of m: 0.8498008372670134, \tValue of c: -0.1566642005377427\n",
            "Iteration: 61\tValue of m: 0.8498008372670134, \tValue of c: -0.1566642005377427\n",
            "Iteration: 62\tValue of m: 0.8498008372670134, \tValue of c: -0.1566642005377427\n",
            "Iteration: 63\tValue of m: 0.8498008372670134, \tValue of c: -0.1566642005377427\n",
            "Iteration: 64\tValue of m: 0.8498008372670134, \tValue of c: -0.1566642005377427\n",
            "Iteration: 65\tValue of m: 0.8498008372670134, \tValue of c: -0.1566642005377427\n",
            "Iteration: 66\tValue of m: 0.8498008372670134, \tValue of c: -0.1566642005377427\n",
            "Iteration: 67\tValue of m: 0.8498008372670134, \tValue of c: -0.1566642005377427\n",
            "Iteration: 68\tValue of m: 0.8498008372670134, \tValue of c: -0.1566642005377427\n",
            "Iteration: 69\tValue of m: 0.8498008372670134, \tValue of c: -0.1566642005377427\n",
            "Iteration: 70\tValue of m: 0.8498008372670134, \tValue of c: -0.1566642005377427\n",
            "Iteration: 71\tValue of m: 0.8498008372670134, \tValue of c: -0.1566642005377427\n",
            "Iteration: 72\tValue of m: 0.8498008372670134, \tValue of c: -0.1566642005377427\n",
            "Iteration: 73\tValue of m: 0.8498008372670134, \tValue of c: -0.1566642005377427\n",
            "Iteration: 74\tValue of m: 0.8498008372670134, \tValue of c: -0.1566642005377427\n",
            "Iteration: 75\tValue of m: 0.8498008372670134, \tValue of c: -0.1566642005377427\n",
            "Iteration: 76\tValue of m: 0.8498008372670134, \tValue of c: -0.1566642005377427\n",
            "Iteration: 77\tValue of m: 0.8498008372670134, \tValue of c: -0.1566642005377427\n",
            "Iteration: 78\tValue of m: 0.8498008372670134, \tValue of c: -0.1566642005377427\n",
            "Iteration: 79\tValue of m: 0.8498008372670134, \tValue of c: -0.1566642005377427\n",
            "Iteration: 80\tValue of m: 0.8498008372670134, \tValue of c: -0.1566642005377427\n",
            "Iteration: 81\tValue of m: 0.8498008372670134, \tValue of c: -0.1566642005377427\n",
            "Iteration: 82\tValue of m: 0.8498008372670134, \tValue of c: -0.1566642005377427\n",
            "Iteration: 83\tValue of m: 0.8498008372670134, \tValue of c: -0.1566642005377427\n",
            "Iteration: 84\tValue of m: 0.8498008372670134, \tValue of c: -0.1566642005377427\n",
            "Iteration: 85\tValue of m: 0.8498008372670134, \tValue of c: -0.1566642005377427\n",
            "Iteration: 86\tValue of m: 0.8498008372670134, \tValue of c: -0.1566642005377427\n",
            "Iteration: 87\tValue of m: 0.8498008372670134, \tValue of c: -0.1566642005377427\n",
            "Iteration: 88\tValue of m: 0.8498008372670134, \tValue of c: -0.1566642005377427\n",
            "Iteration: 89\tValue of m: 0.8498008372670134, \tValue of c: -0.1566642005377427\n",
            "Iteration: 90\tValue of m: 0.8498008372670134, \tValue of c: -0.1566642005377427\n",
            "Iteration: 91\tValue of m: 0.8498008372670134, \tValue of c: -0.1566642005377427\n",
            "Iteration: 92\tValue of m: 0.8498008372670134, \tValue of c: -0.1566642005377427\n",
            "Iteration: 93\tValue of m: 0.8498008372670134, \tValue of c: -0.1566642005377427\n",
            "Iteration: 94\tValue of m: 0.8498008372670134, \tValue of c: -0.1566642005377427\n",
            "Iteration: 95\tValue of m: 0.8498008372670134, \tValue of c: -0.1566642005377427\n",
            "Iteration: 96\tValue of m: 0.8498008372670134, \tValue of c: -0.1566642005377427\n",
            "Iteration: 97\tValue of m: 0.8498008372670134, \tValue of c: -0.1566642005377427\n",
            "Iteration: 98\tValue of m: 0.8498008372670134, \tValue of c: -0.1566642005377427\n",
            "Iteration: 99\tValue of m: 0.8498008372670134, \tValue of c: -0.1566642005377427\n",
            "Iteration: 100\tValue of m: 0.8498008372670134, \tValue of c: -0.1566642005377427\n"
          ],
          "name": "stdout"
        }
      ]
    },
    {
      "cell_type": "code",
      "metadata": {
        "id": "-pH3yyac5t3D",
        "colab_type": "code",
        "colab": {}
      },
      "source": [
        "import numpy as np\n",
        "\n",
        "x_train = np.array(x_train)\n",
        "y_train = np.array(y_train)\n",
        "x_test = np.array(x_test)\n",
        "y_test = np.array(y_test)"
      ],
      "execution_count": 12,
      "outputs": []
    },
    {
      "cell_type": "code",
      "metadata": {
        "id": "ShGUNKew5wvL",
        "colab_type": "code",
        "colab": {}
      },
      "source": [
        "y_pred_train = []\n",
        "for i in x_train:\n",
        "  y_p_tr = (m * i) + c\n",
        "  y_pred_train.append(y_p_tr)\n",
        "y_pred_train = np.array(y_pred_train)"
      ],
      "execution_count": 13,
      "outputs": []
    },
    {
      "cell_type": "code",
      "metadata": {
        "id": "6mGNCu-25ysL",
        "colab_type": "code",
        "colab": {}
      },
      "source": [
        "y_pred_test = []\n",
        "for i in x_test:\n",
        "  y_p_te = (m * i) + c\n",
        "  y_pred_test.append(y_p_te)\n",
        "y_pred_test = np.array(y_pred_test)"
      ],
      "execution_count": 14,
      "outputs": []
    },
    {
      "cell_type": "code",
      "metadata": {
        "id": "nBmBHQdo51XL",
        "colab_type": "code",
        "colab": {
          "base_uri": "https://localhost:8080/",
          "height": 68
        },
        "outputId": "ba83d027-0737-4ca3-e0ef-c417c6220ad7"
      },
      "source": [
        "import math\n",
        "from sklearn.metrics import mean_squared_error \n",
        "from sklearn.metrics import mean_absolute_error\n",
        "\n",
        "\n",
        "#Training Accuracies\n",
        "mse = math.sqrt(mean_squared_error(y_train, y_pred_train)) \n",
        "print('Root mean square error', mse) \n",
        "mse = (mean_squared_error(y_train, y_pred_train)) \n",
        "print('Mean square error', mse) \n",
        "mae=mean_absolute_error(y_train, y_pred_train)\n",
        "print('Mean absolute error', mae)"
      ],
      "execution_count": 15,
      "outputs": [
        {
          "output_type": "stream",
          "text": [
            "Root mean square error 0.652050017675977\n",
            "Mean square error 0.4251692255512419\n",
            "Mean absolute error 0.43791931037025944\n"
          ],
          "name": "stdout"
        }
      ]
    },
    {
      "cell_type": "code",
      "metadata": {
        "id": "Zr-9tg4T54dE",
        "colab_type": "code",
        "colab": {
          "base_uri": "https://localhost:8080/",
          "height": 68
        },
        "outputId": "3236aa8d-383a-4fb9-f6e9-565d32baea0a"
      },
      "source": [
        "mse = math.sqrt(mean_squared_error(y_test, y_pred_test)) \n",
        "print('Root mean square error', mse) \n",
        "mse = (mean_squared_error(y_test, y_pred_test)) \n",
        "print('Mean square error', mse) \n",
        "mae=mean_absolute_error(y_test, y_pred_test)\n",
        "print('Mean absolute error', mae)"
      ],
      "execution_count": 16,
      "outputs": [
        {
          "output_type": "stream",
          "text": [
            "Root mean square error 0.5875852135671586\n",
            "Mean square error 0.3452563832027635\n",
            "Mean absolute error 0.40588756169201756\n"
          ],
          "name": "stdout"
        }
      ]
    },
    {
      "cell_type": "code",
      "metadata": {
        "id": "BCWi_b3D56dG",
        "colab_type": "code",
        "colab": {}
      },
      "source": [
        ""
      ],
      "execution_count": null,
      "outputs": []
    }
  ]
}